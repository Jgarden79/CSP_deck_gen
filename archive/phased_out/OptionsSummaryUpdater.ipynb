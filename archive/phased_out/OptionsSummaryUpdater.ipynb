{
 "cells": [
  {
   "cell_type": "code",
   "execution_count": 1,
   "id": "faf70775-0c7e-448f-ad39-a12bfaa8f24b",
   "metadata": {},
   "outputs": [],
   "source": [
    "import pandas as pd\n",
    "import numpy as np\n",
    "import requests\n",
    "import io\n",
    "import datetime as dt\n",
    "today = dt.datetime.today().strftime('%Y-%m-%d')\n",
    "import openpyxl\n",
    "from openpyxl import Workbook\n",
    "from openpyxl.utils.dataframe import dataframe_to_rows"
   ]
  },
  {
   "cell_type": "code",
   "execution_count": 8,
   "id": "47c498ef-23ec-44f0-b7e0-5e46b5124966",
   "metadata": {},
   "outputs": [],
   "source": [
    "client = ['d_evertson',21982304\n",
    "\n",
    "         ]\n",
    "client_name = client[0]\n",
    "addepar_id = client[1]\n",
    "\n",
    "# Access and organize Addepar data\n",
    "addepar_view ='396474' #CSP Main View\n",
    "start_date = today\n",
    "end_date = today\n",
    "AUTH_KEY = '9087f51f-e3e1-4d53-87f1-ab90b67b1d55'\n",
    "AUTH_SECRET = 'vQ18ffmE9fBRcnbvZlFdBUXkRH89YcDl0kIlnNek'\n",
    "r = requests.get('https://lido.addepar.com/api/v1/portfolio/views/{}/results?portfolio_id={}&portfolio_type=entity&output_type=csv&start_date={}&end_date={}&addepar_firm=222'.format(\n",
    "                addepar_view, \n",
    "                addepar_id, \n",
    "                start_date, \n",
    "                end_date),\n",
    "                 auth=('{}'.format(AUTH_KEY),\n",
    "                       '{}'.format(AUTH_SECRET)\n",
    "                    )).content  # request to addepar\n",
    "# Read the file, store as DataFRame\n",
    "x = pd.read_csv(io.StringIO(r.decode('utf-8')))\n",
    "#Organize DataFrame\n",
    "close_prices = x[['Symbol','Expiration Date','Strike Price (USD)','Security','Quantity','Original Cost Basis (USD)','Value (USD)']].copy()\n",
    "close_prices['Price'] = close_prices['Value (USD)'].div(close_prices['Quantity'])\n",
    "# Write data to existing options summary workbook\n",
    "wb = Workbook()\n",
    "ws = wb.active\n",
    "xl_file=r\"C:\\Users\\mreis\\OneDrive - Lido Advisors, LLC\\Concentrated Stock\\Lido CSP\\CURRENT PORTFOLIOS\\options summaries\\{}_options_summary.xlsx\".format(client_name)\n",
    "wb=openpyxl.load_workbook(xl_file)\n",
    "ws=wb.worksheets[1]\n",
    "for row in np.arange(0,len(close_prices),1):\n",
    "    for col in np.arange(0,len(close_prices.columns),1):\n",
    "        ws.cell(row=row+2,column=col+5).value=close_prices.iloc[row,col]\n",
    "wb.save(xl_file)\n",
    "wb.close()"
   ]
  },
  {
   "cell_type": "code",
   "execution_count": null,
   "id": "15f3da9c-5ac3-4c44-ba47-d7e37ef6d5f2",
   "metadata": {},
   "outputs": [],
   "source": []
  }
 ],
 "metadata": {
  "kernelspec": {
   "display_name": "Python 3 (ipykernel)",
   "language": "python",
   "name": "python3"
  },
  "language_info": {
   "codemirror_mode": {
    "name": "ipython",
    "version": 3
   },
   "file_extension": ".py",
   "mimetype": "text/x-python",
   "name": "python",
   "nbconvert_exporter": "python",
   "pygments_lexer": "ipython3",
   "version": "3.9.12"
  }
 },
 "nbformat": 4,
 "nbformat_minor": 5
}
