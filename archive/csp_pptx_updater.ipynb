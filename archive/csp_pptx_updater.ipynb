{
 "cells": [
  {
   "cell_type": "code",
   "id": "008f0eda-a7dd-442e-90b8-a6864a3fe259",
   "metadata": {
    "ExecuteTime": {
     "end_time": "2024-06-21T22:57:08.386676Z",
     "start_time": "2024-06-21T22:57:08.353030Z"
    }
   },
   "source": [
    "import pptx\n",
    "from pptx import Presentation\n",
    "from pptx.util import Inches\n",
    "import win32com.client\n",
    "# load tempalte deck\n",
    "csp_deck = Presentation(r'C:\\Users\\mreis\\OneDrive - Lido Advisors, LLC\\Concentrated Stock\\Lido CSP\\csp_deck_all_strats_mar_2024.pptx')\n",
    "# function to update charts in CSP deck template\n",
    "def update_charts(strats=1):        \n",
    "    #####\n",
    "    # Update Cap & Cushion Historical Price Chart\n",
    "    hedge_slide_1 = csp_deck.slides[10]\n",
    "    shapes = hedge_slide_1.shapes\n",
    "    for shape in shapes:\n",
    "        if shape.shape_type == 13: #shape type 13 is 'PICTURE'\n",
    "            shapes.element.remove(shape.element)\n",
    "    # new picture       \n",
    "    cap_cush_price_chart = f'images/{stock}_3yr_price_chart_CapCush.png'\n",
    "    # place new picture\n",
    "    hedge_slide_1.shapes.add_picture(cap_cush_price_chart, Inches(0.6), Inches(1.625), width=Inches(7.5), height=Inches(4.3))\n",
    "    # Update Cap & Cushion Payoff Diagram\n",
    "    hedge_slide_2 = csp_deck.slides[11]\n",
    "    shapes = hedge_slide_2.shapes\n",
    "    for shape in shapes:\n",
    "        if shape.shape_type == 13: #shape type 13 is 'PICTURE'\n",
    "            shapes.element.remove(shape.element)\n",
    "    # new picture       \n",
    "    cap_cush_payoff = f'images/{stock}_gap_trade_payoff_plot.png'\n",
    "    # place new picture\n",
    "    hedge_slide_2.shapes.add_picture(cap_cush_payoff, Inches(0.6), Inches(1.8), width=Inches(7.38), height=Inches(3.15))\n",
    "    #####\n",
    "    # Update Covered Call Historical Price Chart\n",
    "    cc_slide_1 = csp_deck.slides[14]\n",
    "    shapes = cc_slide_1.shapes\n",
    "    for shape in shapes:\n",
    "        if shape.shape_type == 13: #shape type 13 is 'PICTURE'\n",
    "            shapes.element.remove(shape.element)\n",
    "    # new picture       \n",
    "    covd_call_price_chart = f'images/{stock}_3yr_price_chart_CovdCall.png'\n",
    "    # place new picture\n",
    "    cc_slide_1.shapes.add_picture(covd_call_price_chart, Inches(0.6), Inches(1.625), width=Inches(7.5), height=Inches(4.3))\n",
    "    # Update Covered Call Payoff Diagram\n",
    "    cc_slide_2 = csp_deck.slides[15]\n",
    "    shapes = cc_slide_2.shapes\n",
    "    for shape in shapes:\n",
    "        if shape.shape_type == 13: #shape type 13 is 'PICTURE'\n",
    "            shapes.element.remove(shape.element)\n",
    "    # new picture       \n",
    "    covd_call_payoff = f'images/{stock}_covd_call_payoff.png'\n",
    "    # place new picture\n",
    "    cc_slide_2.shapes.add_picture(covd_call_payoff, Inches(0.6), Inches(1.8), width=Inches(7.38), height=Inches(3.15))\n",
    "    # Update Strategic Exit Diagram\n",
    "    cc_slide_3 = csp_deck.slides[16]\n",
    "    shapes = cc_slide_3.shapes\n",
    "    for shape in shapes:\n",
    "        if shape.shape_type == 13: #shape type 13 is 'PICTURE'\n",
    "            shapes.element.remove(shape.element)\n",
    "    # new picture       \n",
    "    strategic_exit_plot = f'images/{stock}_strategic_exit.png'\n",
    "    # place new picture\n",
    "    cc_slide_3.shapes.add_picture(strategic_exit_plot, Inches(0.6), Inches(1.6), width=Inches(6.3), height=Inches(4.4))\n",
    "    #####\n",
    "\n",
    "    if strats == 1:\n",
    "        SEF_slide = csp_deck.slides[19]\n",
    "        shapes = SEF_slide.shapes\n",
    "        for shape in shapes:\n",
    "            if shape.shape_type == 13: #shape type 13 is 'PICTURE'\n",
    "                shapes.element.remove(shape.element)\n",
    "        collar_diagram = f'images/{stock}_collar_payoff.png'\n",
    "        spy_diagram = f'images/SPY_synthetic_payoff_{stock}.png'\n",
    "        SEF_slide.shapes.add_picture(collar_diagram, Inches(0.625), Inches(3.2), Inches(5), Inches(2.25))\n",
    "        SEF_slide.shapes.add_picture(spy_diagram, Inches(7.375), Inches(3.2), Inches(5), Inches(2.25))\n",
    "    else:\n",
    "        pass"
   ],
   "outputs": [
    {
     "ename": "ModuleNotFoundError",
     "evalue": "No module named 'pptx'",
     "output_type": "error",
     "traceback": [
      "\u001B[0;31m---------------------------------------------------------------------------\u001B[0m",
      "\u001B[0;31mModuleNotFoundError\u001B[0m                       Traceback (most recent call last)",
      "\u001B[0;32m/var/folders/xp/_zkhxwzx2t3_lff77vhl5gb40000gn/T/ipykernel_33421/2338448413.py\u001B[0m in \u001B[0;36m<module>\u001B[0;34m\u001B[0m\n\u001B[0;32m----> 1\u001B[0;31m \u001B[0;32mimport\u001B[0m \u001B[0mpptx\u001B[0m\u001B[0;34m\u001B[0m\u001B[0;34m\u001B[0m\u001B[0m\n\u001B[0m\u001B[1;32m      2\u001B[0m \u001B[0;32mfrom\u001B[0m \u001B[0mpptx\u001B[0m \u001B[0;32mimport\u001B[0m \u001B[0mPresentation\u001B[0m\u001B[0;34m\u001B[0m\u001B[0;34m\u001B[0m\u001B[0m\n\u001B[1;32m      3\u001B[0m \u001B[0;32mfrom\u001B[0m \u001B[0mpptx\u001B[0m\u001B[0;34m.\u001B[0m\u001B[0mutil\u001B[0m \u001B[0;32mimport\u001B[0m \u001B[0mInches\u001B[0m\u001B[0;34m\u001B[0m\u001B[0;34m\u001B[0m\u001B[0m\n\u001B[1;32m      4\u001B[0m \u001B[0;32mimport\u001B[0m \u001B[0mwin32com\u001B[0m\u001B[0;34m.\u001B[0m\u001B[0mclient\u001B[0m\u001B[0;34m\u001B[0m\u001B[0;34m\u001B[0m\u001B[0m\n\u001B[1;32m      5\u001B[0m \u001B[0;31m# load tempalte deck\u001B[0m\u001B[0;34m\u001B[0m\u001B[0;34m\u001B[0m\u001B[0m\n",
      "\u001B[0;31mModuleNotFoundError\u001B[0m: No module named 'pptx'"
     ]
    }
   ],
   "execution_count": 1
  },
  {
   "cell_type": "code",
   "execution_count": 10,
   "id": "29af6139-db12-414d-959d-5e88c612d9da",
   "metadata": {},
   "outputs": [
    {
     "name": "stdin",
     "output_type": "stream",
     "text": [
      "Strategy Selection (1 = All, 2 = Hedge + CC, 3 = CC Only, 4 = Hedge + CC + 2x, 5 = CC + 2x): 2\n",
      "Enter Stock Ticker: TSLA\n",
      "Enter Client Last Name: EXAMPLE.2\n"
     ]
    }
   ],
   "source": [
    "strats = input('Strategy Selection (1 = All, 2 = Hedge + CC, 3 = CC Only, 4 = Hedge + CC + 2x, 5 = CC + 2x):')\n",
    "strats = float(strats)\n",
    "if strats == 1:\n",
    "    csp_deck = Presentation(r'C:\\Users\\mreis\\OneDrive - Lido Advisors, LLC\\Concentrated Stock\\Lido CSP\\csp_deck_all_strats_mar_2024.pptx')\n",
    "elif strats == 2:\n",
    "    csp_deck = Presentation(r'C:\\Users\\mreis\\OneDrive - Lido Advisors, LLC\\Concentrated Stock\\Lido CSP\\csp_deck_hedge_plus_mar_2024.pptx')\n",
    "elif strats == 3:\n",
    "    csp_deck = Presentation(r'C:\\Users\\mreis\\OneDrive - Lido Advisors, LLC\\Concentrated Stock\\Lido CSP\\csp_deck_covd_call_feb_2024.pptx')\n",
    "else:\n",
    "    print('ERROR. Please enter 1 for all strategies, 2 for Hedge + CC, 3 for CC.')\n",
    "stock = input('Enter Stock Ticker:')\n",
    "client = input('Enter Client Last Name:')\n",
    "update_charts(strats) # run \"update chart\" function\n",
    "ExcelApp = win32com.client.Dispatch(\"Excel.Application\") #open csp excel workbook\n",
    "ExcelApp.Visible = True\n",
    "workbook = ExcelApp.Workbooks.Open(r\"C:\\Users\\mreis\\OneDrive - Lido Advisors, LLC\\Concentrated Stock\\Lido CSP\\Lido_CSP_strategy_workbook.xlsx\")\n",
    "csp_deck.save(r'C:\\Users\\mreis\\OneDrive - Lido Advisors, LLC\\Concentrated Stock\\Lido CSP\\Sent Proposals/csp_proposal_{}_({})_june_2024.pptx'.format(stock,client))"
   ]
  },
  {
   "cell_type": "code",
   "execution_count": null,
   "id": "568ef19e-fe91-443f-8fb3-d023ebabef62",
   "metadata": {},
   "outputs": [],
   "source": []
  }
 ],
 "metadata": {
  "kernelspec": {
   "display_name": "Python 3 (ipykernel)",
   "language": "python",
   "name": "python3"
  },
  "language_info": {
   "codemirror_mode": {
    "name": "ipython",
    "version": 3
   },
   "file_extension": ".py",
   "mimetype": "text/x-python",
   "name": "python",
   "nbconvert_exporter": "python",
   "pygments_lexer": "ipython3",
   "version": "3.9.12"
  }
 },
 "nbformat": 4,
 "nbformat_minor": 5
}
